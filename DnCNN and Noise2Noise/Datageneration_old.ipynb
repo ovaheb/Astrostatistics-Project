{
  "cells": [
    {
      "cell_type": "code",
      "execution_count": null,
      "metadata": {
        "colab": {
          "base_uri": "https://localhost:8080/"
        },
        "id": "nZY_imfGI8QC",
        "outputId": "1e7a1d32-6dae-421c-d971-f771cc6118cb"
      },
      "outputs": [
        {
          "output_type": "stream",
          "name": "stdout",
          "text": [
            "/usr/bin/python3\n"
          ]
        }
      ],
      "source": [
        "import sys\n",
        "print(sys.executable)"
      ]
    },
    {
      "cell_type": "code",
      "execution_count": null,
      "metadata": {
        "colab": {
          "base_uri": "https://localhost:8080/"
        },
        "id": "b6pNNdYfI8QE",
        "outputId": "926cbb19-ad1d-4122-e531-58dd71fe5718"
      },
      "outputs": [
        {
          "output_type": "stream",
          "name": "stdout",
          "text": [
            "/bin/bash: activate: No such file or directory\n",
            "Installed kernelspec noise2score in /root/.local/share/jupyter/kernels/noise2score\n"
          ]
        }
      ],
      "source": [
        "!source activate noise2score\n",
        "!python -m ipykernel install --user --name noise2score --display-name \"Python (noise2score)\""
      ]
    },
    {
      "cell_type": "code",
      "source": [
        "!mkdir ./datasets"
      ],
      "metadata": {
        "id": "iXAeUr9TJ0CG"
      },
      "execution_count": null,
      "outputs": []
    },
    {
      "cell_type": "code",
      "source": [
        "from google.colab import drive\n",
        "drive.mount('/content/gdrive')"
      ],
      "metadata": {
        "colab": {
          "base_uri": "https://localhost:8080/"
        },
        "id": "3p3WlQjRKPIv",
        "outputId": "38265fa6-92ca-4c34-b04e-519b82ef1877"
      },
      "execution_count": null,
      "outputs": [
        {
          "output_type": "stream",
          "name": "stdout",
          "text": [
            "Mounted at /content/gdrive\n"
          ]
        }
      ]
    },
    {
      "cell_type": "code",
      "source": [
        "%cd /content//datasets\n",
        "!unrar x \"/content/gdrive/MyDrive/HST.rar\""
      ],
      "metadata": {
        "colab": {
          "base_uri": "https://localhost:8080/"
        },
        "id": "C5K1dvetKUdv",
        "outputId": "da06f1a8-af86-4f4d-c5ed-ed0c13612ca4"
      },
      "execution_count": null,
      "outputs": [
        {
          "output_type": "stream",
          "name": "stdout",
          "text": [
            "/content/datasets\n",
            "\n",
            "UNRAR 5.50 freeware      Copyright (c) 1993-2017 Alexander Roshal\n",
            "\n",
            "\n",
            "Extracting from /content/gdrive/MyDrive/HST.rar\n",
            "\n",
            "Extracting  heic1007a.tif                                                \b\b\b\b 11%\b\b\b\b 22%\b\b\b\b 25%\b\b\b\b\b  OK \n",
            "Extracting  opo0010a.tif                                                 \b\b\b\b 27%\b\b\b\b\b  OK \n",
            "Extracting  opo0028a.tif                                                 \b\b\b\b 27%\b\b\b\b\b  OK \n",
            "Extracting  opo0123a.tif                                                 \b\b\b\b 34%\b\b\b\b\b  OK \n",
            "Extracting  opo9941a.tif                                                 \b\b\b\b 45%\b\b\b\b 55%\b\b\b\b\b  OK \n",
            "Extracting  potw1346a.tif                                                \b\b\b\b 58%\b\b\b\b\b  OK \n",
            "Extracting  potw1441a.tif                                                \b\b\b\b 69%\b\b\b\b 70%\b\b\b\b\b  OK \n",
            "Extracting  potw1751a.tif                                                \b\b\b\b 79%\b\b\b\b\b  OK \n",
            "Extracting  heic0904f.tif                                                \b\b\b\b 80%\b\b\b\b\b  OK \n",
            "Extracting  heic0905a.tif                                                \b\b\b\b 92%\b\b\b\b 99%\b\b\b\b\b  OK \n",
            "All OK\n"
          ]
        }
      ]
    },
    {
      "cell_type": "code",
      "source": [
        "!mkdir /content/HST\n",
        "%cd c"
      ],
      "metadata": {
        "colab": {
          "base_uri": "https://localhost:8080/"
        },
        "id": "iFAelNU9VIii",
        "outputId": "3eb2e0d7-942f-47b2-fe85-e537eb5edeaa"
      },
      "execution_count": null,
      "outputs": [
        {
          "output_type": "stream",
          "name": "stdout",
          "text": [
            "/content/HST\n"
          ]
        }
      ]
    },
    {
      "cell_type": "code",
      "execution_count": null,
      "metadata": {
        "id": "9v2eaHeiI8QE"
      },
      "outputs": [],
      "source": [
        "from torchvision import datasets  \n",
        "import numpy as np\n",
        "from matplotlib import pyplot as plt\n",
        "import os \n",
        "import imageio as io\n",
        "import glob\n",
        "from skimage.color import rgb2gray\n",
        "clean_dir = '/content/datasets/'\n",
        "cleanout_dir = '/content/HST/clean/'\n",
        "noisy_25_dir = '/content/HST/noisy_25/'\n",
        "noisy_50_dir = '/content/HST/noisy_50/'\n",
        "noisy_01_dir = '/content/HST/noisy_0.01/'\n",
        "noisy_02_dir = '/content/HST/noisy_0.05/'\n",
        "if not os.path.exists(clean_dir):\n",
        "    os.makedirs(clean_dir)\n",
        "if not os.path.exists(noisy_25_dir):\n",
        "    os.makedirs(noisy_25_dir)    \n",
        "if not os.path.exists(noisy_50_dir):\n",
        "    os.makedirs(noisy_50_dir)  \n",
        "if not os.path.exists(noisy_01_dir):\n",
        "    os.makedirs(noisy_01_dir)    \n",
        "if not os.path.exists(noisy_02_dir):\n",
        "    os.makedirs(noisy_02_dir)     \n",
        "\n",
        "if not os.path.exists(cleanout_dir):\n",
        "    os.makedirs(cleanout_dir)     \n",
        "ext = ('.jpg', '.jpg', '.tif')    "
      ]
    },
    {
      "cell_type": "code",
      "source": [
        "!pip install imagecodecs"
      ],
      "metadata": {
        "colab": {
          "base_uri": "https://localhost:8080/"
        },
        "id": "YESX38oINgUb",
        "outputId": "a35531ce-69ee-47b0-be86-c2da9eb228cd"
      },
      "execution_count": null,
      "outputs": [
        {
          "output_type": "stream",
          "name": "stdout",
          "text": [
            "Looking in indexes: https://pypi.org/simple, https://us-python.pkg.dev/colab-wheels/public/simple/\n",
            "Collecting imagecodecs\n",
            "  Downloading imagecodecs-2022.9.26-cp38-cp38-manylinux_2_17_x86_64.manylinux2014_x86_64.whl (35.1 MB)\n",
            "\u001b[K     |████████████████████████████████| 35.1 MB 187 kB/s \n",
            "\u001b[?25hRequirement already satisfied: numpy>=1.19.2 in /usr/local/lib/python3.8/dist-packages (from imagecodecs) (1.21.6)\n",
            "Installing collected packages: imagecodecs\n",
            "Successfully installed imagecodecs-2022.9.26\n"
          ]
        }
      ]
    },
    {
      "cell_type": "code",
      "execution_count": null,
      "metadata": {
        "colab": {
          "base_uri": "https://localhost:8080/"
        },
        "id": "HBdt8PE-I8QF",
        "outputId": "039908a2-3dd4-4904-a64e-b3df3b546e20"
      },
      "outputs": [
        {
          "output_type": "stream",
          "name": "stdout",
          "text": [
            "/content/datasets/heic0904f.tif\n",
            ".npy\n"
          ]
        }
      ],
      "source": [
        "names_hr = sorted(glob.glob(os.path.join(clean_dir, '*' + ext[2])))\n",
        "name = names_hr[0]\n",
        "print(name)\n",
        "print(name[51:-4] + '.npy')\n",
        "image = io.imread(name)"
      ]
    },
    {
      "cell_type": "code",
      "source": [
        "from PIL import Image"
      ],
      "metadata": {
        "id": "RICm2BFzS4Ck"
      },
      "execution_count": null,
      "outputs": []
    },
    {
      "cell_type": "markdown",
      "metadata": {
        "id": "02KGIQExI8QF"
      },
      "source": [
        "## Generate addtive Gaussian Noise images"
      ]
    },
    {
      "cell_type": "code",
      "execution_count": null,
      "metadata": {
        "colab": {
          "base_uri": "https://localhost:8080/"
        },
        "id": "ezAia8pGI8QG",
        "outputId": "dd050b76-f93f-4105-b9ac-3b8b563279e2"
      },
      "outputs": [
        {
          "output_type": "stream",
          "name": "stdout",
          "text": [
            "/content/datasets/heic0904f.tif\n",
            "/content/datasets/heic0905a.tif\n",
            "/content/datasets/heic1007a.tif\n",
            "/content/datasets/opo0010a.tif\n",
            "/content/datasets/opo0028a.tif\n",
            "/content/datasets/opo0123a.tif\n",
            "/content/datasets/opo9941a.tif\n",
            "/content/datasets/potw1346a.tif\n",
            "/content/datasets/potw1441a.tif\n",
            "/content/datasets/potw1751a.tif\n"
          ]
        }
      ],
      "source": [
        "for i in range(len(names_hr)):\n",
        "    f_hr = names_hr[i]\n",
        "    f_lr = names_hr[i]\n",
        "    clean = (io.imread(f_hr)/255)\n",
        "    clean = rgb2gray(clean)\n",
        "    noise_25 = np.random.normal(size = clean.shape,scale = 25/255)\n",
        "    noise_50 = np.random.normal(size = clean.shape,scale = 50/255)\n",
        "    noisy_25 = clean + noise_25\n",
        "    noisy_50 = clean + noise_50\n",
        "    np.save(os.path.join(cleanout_dir,f_lr),Image.fromarray(clean))\n",
        "    np.save(os.path.join(noisy_25_dir,f_lr),Image.fromarray(noisy_25))\n",
        "    np.save(os.path.join(noisy_50_dir,f_lr),Image.fromarray(noisy_50))\n",
        "    print(os.path.join(cleanout_dir,f_lr))\n",
        "    Image.fromarray(clean).save(os.path.join(cleanout_dir,f_lr))\n",
        "    Image.fromarray(noisy_25).save(os.path.join(noisy_25_dir,f_lr))\n",
        "    Image.fromarray(noisy_50).save(os.path.join(noisy_50_dir,f_lr))"
      ]
    },
    {
      "cell_type": "markdown",
      "metadata": {
        "id": "krGLjfqrI8QG"
      },
      "source": [
        "## Generate Poisson Noise images"
      ]
    },
    {
      "cell_type": "code",
      "execution_count": null,
      "metadata": {
        "id": "yWQL6fHaI8QH"
      },
      "outputs": [],
      "source": [
        "for i in range(len(names_hr)):\n",
        "    f_hr = names_hr[i]\n",
        "    f_lr = names_hr[i][51:-4] +'.npy' \n",
        "    clean = (io.imread(f_hr)/255)\n",
        "    clean = rgb2gray(clean)\n",
        "    noisy_0_1 = np.random.poisson(clean/0.01) * 0.01\n",
        "    noisy_0_2 = np.random.poisson(clean/0.05) * 0.05\n",
        "    np.save(os.path.join(noisy_01_dir,f_lr),noisy_0_1)\n",
        "    np.save(os.path.join(noisy_02_dir,f_lr),noisy_0_2)"
      ]
    }
  ],
  "metadata": {
    "kernelspec": {
      "display_name": "Python 3 (ipykernel)",
      "language": "python",
      "name": "python3"
    },
    "language_info": {
      "codemirror_mode": {
        "name": "ipython",
        "version": 3
      },
      "file_extension": ".py",
      "mimetype": "text/x-python",
      "name": "python",
      "nbconvert_exporter": "python",
      "pygments_lexer": "ipython3",
      "version": "3.9.13"
    },
    "colab": {
      "provenance": []
    }
  },
  "nbformat": 4,
  "nbformat_minor": 0
}